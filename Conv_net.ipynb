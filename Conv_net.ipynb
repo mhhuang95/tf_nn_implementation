{
 "cells": [
  {
   "cell_type": "code",
   "execution_count": 22,
   "metadata": {},
   "outputs": [
    {
     "name": "stdout",
     "output_type": "stream",
     "text": [
      "Extracting /tmp/data/train-images-idx3-ubyte.gz\n",
      "Extracting /tmp/data/train-labels-idx1-ubyte.gz\n",
      "Extracting /tmp/data/t10k-images-idx3-ubyte.gz\n",
      "Extracting /tmp/data/t10k-labels-idx1-ubyte.gz\n"
     ]
    }
   ],
   "source": [
    "import numpy as np\n",
    "import matplotlib.pyplot as plt\n",
    "import tensorflow as tf\n",
    "\n",
    "from tensorflow.examples.tutorials.mnist import input_data\n",
    "mnist = input_data.read_data_sets(\"/tmp/data/\", one_hot=False)"
   ]
  },
  {
   "cell_type": "code",
   "execution_count": 23,
   "metadata": {},
   "outputs": [],
   "source": [
    "learning_rate = 0.001\n",
    "num_steps = 2000\n",
    "batch_size = 128\n",
    "\n",
    "num_input = 784\n",
    "num_classes = 10\n",
    "dropout = 0.25"
   ]
  },
  {
   "cell_type": "code",
   "execution_count": 24,
   "metadata": {},
   "outputs": [],
   "source": [
    "#create neural net\n",
    "def conv_net(x_dict, n_classes, dropout, reuse, is_training):\n",
    "    \n",
    "    with tf.variable_scope('ConvNet', reuse=reuse):\n",
    "        x = x_dict['images']\n",
    "        \n",
    "        x = tf.reshape(x, shape=[-1, 28, 28, 1])\n",
    "        \n",
    "        conv1 = tf.layers.conv2d(x, 32, 5, activation = tf.nn.relu)\n",
    "        print(\"conv1\", conv1.shape)\n",
    "        conv1 = tf.layers.max_pooling2d(conv1, 2, 2)\n",
    "        print(\"conv1pool\", conv1.shape)\n",
    "        \n",
    "        conv2 = tf.layers.conv2d(conv1, 64, 3, activation = tf.nn.relu)\n",
    "        print(\"conv2\", conv2.shape)\n",
    "        conv2 = tf.layers.max_pooling2d(conv2, 2, 2)\n",
    "        print(\"conv2pool\", conv2.shape)\n",
    "        fc1 = tf.contrib.layers.flatten(conv2)\n",
    "        \n",
    "        fc1 = tf.layers.dense(fc1, 1024)\n",
    "        \n",
    "        fc1 = tf.layers.dropout(fc1, rate=dropout, training=is_training)\n",
    "        \n",
    "        out = tf.layers.dense(fc1, n_classes)\n",
    "        \n",
    "    return out"
   ]
  },
  {
   "cell_type": "code",
   "execution_count": 25,
   "metadata": {},
   "outputs": [],
   "source": [
    "def model_fn(features, labels, mode):\n",
    "    logits_train = conv_net(features, num_classes, dropout, reuse=False, is_training=True)\n",
    "    logits_test = conv_net(features, num_classes, dropout, reuse=True, is_training=False)\n",
    "    \n",
    "    pred_class = tf.argmax(logits_test, axis=1)\n",
    "    pred_prob = tf.nn.softmax(logits_test)\n",
    "    \n",
    "    if mode == tf.estimator.ModeKeys.PREDICT:\n",
    "        return tf.estimator.EstimatorSpec(mode, predictions=pred_class) \n",
    "    \n",
    "    loss_op = tf.reduce_mean(tf.nn.sparse_softmax_cross_entropy_with_logits(\n",
    "        logits=logits_train, labels=tf.cast(labels, dtype=tf.int32)))\n",
    "    \n",
    "    optimizer = tf.train.AdamOptimizer(learning_rate = learning_rate)\n",
    "    train_op = optimizer.minimize(loss_op, global_step=tf.train.get_global_step())\n",
    "    \n",
    "    acc_op = tf.metrics.accuracy(labels=labels, predictions=pred_class)\n",
    "    \n",
    "    estim_specs = tf.estimator.EstimatorSpec(\n",
    "      mode=mode,\n",
    "      predictions=pred_class,\n",
    "      loss=loss_op,\n",
    "      train_op=train_op,\n",
    "      eval_metric_ops={'accuracy': acc_op})\n",
    "\n",
    "    return estim_specs"
   ]
  },
  {
   "cell_type": "code",
   "execution_count": 26,
   "metadata": {},
   "outputs": [
    {
     "name": "stdout",
     "output_type": "stream",
     "text": [
      "INFO:tensorflow:Using default config.\n",
      "WARNING:tensorflow:Using temporary folder as model directory: /var/folders/4g/t6r33qyj7ts58ygnfj7htgq80000gn/T/tmp_tf7n_09\n",
      "INFO:tensorflow:Using config: {'_model_dir': '/var/folders/4g/t6r33qyj7ts58ygnfj7htgq80000gn/T/tmp_tf7n_09', '_tf_random_seed': None, '_save_summary_steps': 100, '_save_checkpoints_steps': None, '_save_checkpoints_secs': 600, '_session_config': allow_soft_placement: true\n",
      "graph_options {\n",
      "  rewrite_options {\n",
      "    meta_optimizer_iterations: ONE\n",
      "  }\n",
      "}\n",
      ", '_keep_checkpoint_max': 5, '_keep_checkpoint_every_n_hours': 10000, '_log_step_count_steps': 100, '_train_distribute': None, '_device_fn': None, '_protocol': None, '_eval_distribute': None, '_experimental_distribute': None, '_service': None, '_cluster_spec': <tensorflow.python.training.server_lib.ClusterSpec object at 0x1c2b3ce8d0>, '_task_type': 'worker', '_task_id': 0, '_global_id_in_cluster': 0, '_master': '', '_evaluation_master': '', '_is_chief': True, '_num_ps_replicas': 0, '_num_worker_replicas': 1}\n"
     ]
    }
   ],
   "source": [
    "model = tf.estimator.Estimator(model_fn)"
   ]
  },
  {
   "cell_type": "code",
   "execution_count": 27,
   "metadata": {},
   "outputs": [
    {
     "name": "stdout",
     "output_type": "stream",
     "text": [
      "INFO:tensorflow:Calling model_fn.\n",
      "conv1 (128, 24, 24, 32)\n",
      "conv1pool (128, 12, 12, 32)\n",
      "conv2 (128, 10, 10, 64)\n",
      "conv2pool (128, 5, 5, 64)\n",
      "conv1 (128, 24, 24, 32)\n",
      "conv1pool (128, 12, 12, 32)\n",
      "conv2 (128, 10, 10, 64)\n",
      "conv2pool (128, 5, 5, 64)\n",
      "INFO:tensorflow:Done calling model_fn.\n",
      "INFO:tensorflow:Create CheckpointSaverHook.\n",
      "INFO:tensorflow:Graph was finalized.\n",
      "INFO:tensorflow:Running local_init_op.\n",
      "INFO:tensorflow:Done running local_init_op.\n",
      "INFO:tensorflow:Saving checkpoints for 0 into /var/folders/4g/t6r33qyj7ts58ygnfj7htgq80000gn/T/tmp_tf7n_09/model.ckpt.\n",
      "INFO:tensorflow:loss = 2.3283, step = 1\n",
      "INFO:tensorflow:global_step/sec: 11.7548\n",
      "INFO:tensorflow:loss = 0.12882046, step = 101 (8.508 sec)\n",
      "INFO:tensorflow:global_step/sec: 11.6389\n",
      "INFO:tensorflow:loss = 0.03754104, step = 201 (8.592 sec)\n",
      "INFO:tensorflow:global_step/sec: 11.4064\n",
      "INFO:tensorflow:loss = 0.030222854, step = 301 (8.767 sec)\n",
      "INFO:tensorflow:global_step/sec: 12.4487\n",
      "INFO:tensorflow:loss = 0.11703863, step = 401 (8.033 sec)\n",
      "INFO:tensorflow:global_step/sec: 12.0869\n",
      "INFO:tensorflow:loss = 0.13288267, step = 501 (8.276 sec)\n",
      "INFO:tensorflow:global_step/sec: 11.3938\n",
      "INFO:tensorflow:loss = 0.06744911, step = 601 (8.774 sec)\n",
      "INFO:tensorflow:global_step/sec: 11.0566\n",
      "INFO:tensorflow:loss = 0.033349797, step = 701 (9.044 sec)\n",
      "INFO:tensorflow:global_step/sec: 12.003\n",
      "INFO:tensorflow:loss = 0.022651013, step = 801 (8.331 sec)\n",
      "INFO:tensorflow:global_step/sec: 11.1007\n",
      "INFO:tensorflow:loss = 0.013100021, step = 901 (9.009 sec)\n",
      "INFO:tensorflow:global_step/sec: 11.6484\n",
      "INFO:tensorflow:loss = 0.05141971, step = 1001 (8.586 sec)\n",
      "INFO:tensorflow:global_step/sec: 10.9331\n",
      "INFO:tensorflow:loss = 0.011356256, step = 1101 (9.146 sec)\n",
      "INFO:tensorflow:global_step/sec: 10.5384\n",
      "INFO:tensorflow:loss = 0.036742996, step = 1201 (9.489 sec)\n",
      "INFO:tensorflow:global_step/sec: 10.481\n",
      "INFO:tensorflow:loss = 0.05676317, step = 1301 (9.541 sec)\n",
      "INFO:tensorflow:global_step/sec: 10.476\n",
      "INFO:tensorflow:loss = 0.029844265, step = 1401 (9.548 sec)\n",
      "INFO:tensorflow:global_step/sec: 10.9285\n",
      "INFO:tensorflow:loss = 0.11129407, step = 1501 (9.148 sec)\n",
      "INFO:tensorflow:global_step/sec: 12.3968\n",
      "INFO:tensorflow:loss = 0.006916986, step = 1601 (8.067 sec)\n",
      "INFO:tensorflow:global_step/sec: 11.8469\n",
      "INFO:tensorflow:loss = 0.05989195, step = 1701 (8.441 sec)\n",
      "INFO:tensorflow:global_step/sec: 12.0787\n",
      "INFO:tensorflow:loss = 0.011441809, step = 1801 (8.279 sec)\n",
      "INFO:tensorflow:global_step/sec: 11.794\n",
      "INFO:tensorflow:loss = 0.0023485704, step = 1901 (8.479 sec)\n",
      "INFO:tensorflow:Saving checkpoints for 2000 into /var/folders/4g/t6r33qyj7ts58ygnfj7htgq80000gn/T/tmp_tf7n_09/model.ckpt.\n",
      "INFO:tensorflow:Loss for final step: 0.009896288.\n"
     ]
    },
    {
     "data": {
      "text/plain": [
       "<tensorflow_estimator.python.estimator.estimator.Estimator at 0x1c2b3aec88>"
      ]
     },
     "execution_count": 27,
     "metadata": {},
     "output_type": "execute_result"
    }
   ],
   "source": [
    "input_fn = tf.estimator.inputs.numpy_input_fn(\n",
    "    x={'images': mnist.train.images}, y=mnist.train.labels,\n",
    "    batch_size=batch_size, num_epochs=None, shuffle=True)\n",
    "# Train the Model\n",
    "model.train(input_fn, steps=num_steps)"
   ]
  },
  {
   "cell_type": "code",
   "execution_count": null,
   "metadata": {},
   "outputs": [],
   "source": []
  }
 ],
 "metadata": {
  "kernelspec": {
   "display_name": "Python 3",
   "language": "python",
   "name": "python3"
  },
  "language_info": {
   "codemirror_mode": {
    "name": "ipython",
    "version": 3
   },
   "file_extension": ".py",
   "mimetype": "text/x-python",
   "name": "python",
   "nbconvert_exporter": "python",
   "pygments_lexer": "ipython3",
   "version": "3.6.5"
  }
 },
 "nbformat": 4,
 "nbformat_minor": 2
}
