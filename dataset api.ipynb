{
 "cells": [
  {
   "cell_type": "code",
   "execution_count": 8,
   "metadata": {},
   "outputs": [
    {
     "name": "stdout",
     "output_type": "stream",
     "text": [
      "Extracting \tmp\\data/train-images-idx3-ubyte.gz\n",
      "Extracting \tmp\\data/train-labels-idx1-ubyte.gz\n",
      "Extracting \tmp\\data/t10k-images-idx3-ubyte.gz\n",
      "Extracting \tmp\\data/t10k-labels-idx1-ubyte.gz\n"
     ]
    }
   ],
   "source": [
    "import tensorflow as tf\n",
    "from tensorflow.examples.tutorials.mnist import input_data\n",
    "mnist = input_data.read_data_sets('\\tmp\\data', one_hot=True)"
   ]
  },
  {
   "cell_type": "code",
   "execution_count": 18,
   "metadata": {},
   "outputs": [],
   "source": [
    "tf.reset_default_graph()\n",
    "learning_rate = 0.01\n",
    "num_steps = 1000\n",
    "batch_size = 128\n",
    "step_display = 100\n",
    "\n",
    "num_input = 28*28\n",
    "num_classes = 10\n",
    "dropout = 0.75\n",
    "\n",
    "sess = tf.Session()\n",
    "\n",
    "# Create a dataset tensor from the images and the labels\n",
    "dataset = tf.data.Dataset.from_tensor_slices((mnist.train.images, mnist.train.labels))\n",
    "\n",
    "# Automatically refill the data queue when empty\n",
    "dataset = dataset.repeat()\n",
    "\n",
    "# Create batches of data\n",
    "dataset = dataset.batch(batch_size)\n",
    "\n",
    "# Prefetch data for faster consumption\n",
    "dataset = dataset.prefetch(batch_size)\n",
    "\n",
    "# Create an iterator over the dataset\n",
    "iterator = dataset.make_initializable_iterator()\n",
    "\n",
    "# Initialize the iterator\n",
    "sess.run(iterator.initializer)\n",
    "\n",
    "X,Y = iterator.get_next()"
   ]
  },
  {
   "cell_type": "code",
   "execution_count": 19,
   "metadata": {},
   "outputs": [],
   "source": [
    "def conv_net(x, num_classes, droupout, reuse, is_training):\n",
    "    \n",
    "    with tf.variable_scope('Conv_net', reuse = reuse):\n",
    "        \n",
    "        x = tf.reshape(x, [-1,28,28,1])\n",
    "        \n",
    "        layer1 = tf.layers.conv2d(x, 32, 5, activation = tf.nn.relu)\n",
    "        layer1 = tf.layers.max_pooling2d(layer1,2,2)\n",
    "        \n",
    "        layer2 = tf.layers.conv2d(layer1, 64, 3, activation = tf.nn.relu)\n",
    "        layer2 = tf.layers.max_pooling2d(layer2,2,2)\n",
    "        \n",
    "        fc = tf.contrib.layers.flatten(layer2)\n",
    "        \n",
    "        fc = tf.layers.dense(fc, 1024)\n",
    "        fc = tf.layers.dropout(fc, rate=dropout, training=is_training)\n",
    "        \n",
    "        out = tf.layers.dense(fc, num_classes)\n",
    "        out = tf.nn.softmax(out) if not is_training else out\n",
    "        \n",
    "        return out\n",
    "    \n",
    "logits_train = conv_net(X, num_classes, dropout, reuse=False, is_training=True)\n",
    "logits_test = conv_net(X, num_classes, dropout, reuse=True, is_training=False)\n",
    "\n",
    "loss_op = tf.reduce_mean(tf.nn.softmax_cross_entropy_with_logits(logits=logits_train, labels=Y))\n",
    "optimizer = tf.train.AdamOptimizer(learning_rate = learning_rate)\n",
    "train_op = optimizer.minimize(loss_op)\n",
    "\n",
    "correct_pred = tf.equal(tf.argmax(logits_train, 1), tf.argmax(Y, 1))\n",
    "accuracy = tf.reduce_mean(tf.cast(correct_pred, tf.float32))"
   ]
  },
  {
   "cell_type": "code",
   "execution_count": null,
   "metadata": {},
   "outputs": [
    {
     "name": "stdout",
     "output_type": "stream",
     "text": [
      "Step 1, Minibatch Loss= 6.1659, Training Accuracy= 0.117\n",
      "Step 100, Minibatch Loss= 0.3585, Training Accuracy= 0.922\n"
     ]
    }
   ],
   "source": [
    "init = tf.global_variables_initializer()\n",
    "\n",
    "sess.run(init)\n",
    "\n",
    "for step in range(1, num_steps+1):\n",
    "    \n",
    "    sess.run(train_op)\n",
    "    \n",
    "    if step % step_display == 0 or step == 1:\n",
    "        # Calculate batch loss and accuracy\n",
    "        # (note that this consume a new batch of data)\n",
    "        loss, acc = sess.run([loss_op, accuracy])\n",
    "        print(\"Step \" + str(step) + \", Minibatch Loss= \" + \\\n",
    "              \"{:.4f}\".format(loss) + \", Training Accuracy= \" + \\\n",
    "              \"{:.3f}\".format(acc))\n",
    "\n",
    "print(\"Optimization Finished!\")"
   ]
  },
  {
   "cell_type": "code",
   "execution_count": null,
   "metadata": {},
   "outputs": [],
   "source": []
  }
 ],
 "metadata": {
  "kernelspec": {
   "display_name": "Python 3",
   "language": "python",
   "name": "python3"
  },
  "language_info": {
   "codemirror_mode": {
    "name": "ipython",
    "version": 3
   },
   "file_extension": ".py",
   "mimetype": "text/x-python",
   "name": "python",
   "nbconvert_exporter": "python",
   "pygments_lexer": "ipython3",
   "version": "3.6.5"
  }
 },
 "nbformat": 4,
 "nbformat_minor": 2
}
