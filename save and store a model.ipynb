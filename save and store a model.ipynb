{
 "cells": [
  {
   "cell_type": "code",
   "execution_count": 4,
   "metadata": {},
   "outputs": [
    {
     "name": "stdout",
     "output_type": "stream",
     "text": [
      "Extracting \tmp\\data/train-images-idx3-ubyte.gz\n",
      "Extracting \tmp\\data/train-labels-idx1-ubyte.gz\n",
      "Extracting \tmp\\data/t10k-images-idx3-ubyte.gz\n",
      "Extracting \tmp\\data/t10k-labels-idx1-ubyte.gz\n"
     ]
    }
   ],
   "source": [
    "import tensorflow as tf\n",
    "\n",
    "from tensorflow.examples.tutorials.mnist import input_data\n",
    "mnist = input_data.read_data_sets('\\tmp\\data', one_hot=True)"
   ]
  },
  {
   "cell_type": "code",
   "execution_count": 13,
   "metadata": {},
   "outputs": [],
   "source": [
    "learning_rate = 0.01\n",
    "batch_size = 128\n",
    "display_step = 1\n",
    "model_path = \"/tmp/model.ckpt\"\n",
    "\n",
    "num_hidden1 = 256\n",
    "num_hidden2 = 256\n",
    "num_input = 28*28\n",
    "num_classes = 10\n",
    "\n",
    "X = tf.placeholder(tf.float32, [None, num_input])\n",
    "Y = tf.placeholder(tf.float32, [None, num_classes])"
   ]
  },
  {
   "cell_type": "code",
   "execution_count": 14,
   "metadata": {},
   "outputs": [],
   "source": [
    "weights = {\n",
    "    'w1': tf.Variable(tf.random_normal([num_input, num_hidden1])),\n",
    "    'w2': tf.Variable(tf.random_normal([num_hidden1, num_hidden2])),\n",
    "    'out': tf.Variable(tf.random_normal([num_hidden2, num_classes]))\n",
    "}\n",
    "\n",
    "biases = {\n",
    "    'b1': tf.Variable(tf.random_normal([num_hidden1])),\n",
    "    'b2': tf.Variable(tf.random_normal([num_hidden2])),\n",
    "    'out': tf.Variable(tf.random_normal([num_classes]))\n",
    "}\n",
    "\n",
    "def multilayer_net(x, weights, biases):\n",
    "    layer1 = tf.matmul(x, weights['w1']) + biases['b1']\n",
    "    layer1 = tf.nn.relu(layer1)\n",
    "    \n",
    "    layer2 = tf.matmul(layer1, weights['w2']) + biases['b2']\n",
    "    layer2 = tf.nn.relu(layer2)\n",
    "    \n",
    "    out = tf.matmul(layer2, weights['out']) + biases['out']\n",
    "    return out\n",
    "\n",
    "pred = multilayer_net(X, weights, biases)\n",
    "\n",
    "loss_op = tf.reduce_mean(tf.nn.softmax_cross_entropy_with_logits(logits=pred, labels=Y))\n",
    "optimizer = tf.train.AdamOptimizer(learning_rate = learning_rate)\n",
    "train_op = optimizer.minimize(loss_op)\n",
    "\n",
    "correct_pred = tf.equal(tf.argmax(pred, 1), tf.argmax(Y,1))\n",
    "accuracy = tf.reduce_mean(tf.cast(correct_pred, tf.float32))\n",
    "\n",
    "init = tf.global_variables_initializer()"
   ]
  },
  {
   "cell_type": "code",
   "execution_count": 15,
   "metadata": {},
   "outputs": [],
   "source": [
    "saver = tf.train.Saver()"
   ]
  },
  {
   "cell_type": "code",
   "execution_count": 20,
   "metadata": {},
   "outputs": [
    {
     "name": "stdout",
     "output_type": "stream",
     "text": [
      "1st session\n",
      "Epoch: 0001 cost= 57.437561506\n",
      "Epoch: 0002 cost= 10.846982995\n",
      "Epoch: 0003 cost= 5.591072588\n",
      "accuracy [0.9457]\n",
      "Model saved in file: /tmp/model.ckpt\n"
     ]
    }
   ],
   "source": [
    "print(\"1st session\")\n",
    "with tf.Session() as sess:\n",
    "    \n",
    "    sess.run(init)\n",
    "    \n",
    "    for epoch in range(3):\n",
    "        ave_cost = 0\n",
    "        num_steps = int(mnist.train.num_examples/batch_size)\n",
    "        for step in range(num_steps):\n",
    "            batch_x, batch_y = mnist.train.next_batch(batch_size)\n",
    "            _, loss = sess.run([train_op, loss_op], feed_dict = {X:batch_x, Y:batch_y})\n",
    "        \n",
    "            ave_cost += loss/num_steps\n",
    "        if epoch % display_step == 0:\n",
    "            print(\"Epoch:\", '%04d' % (epoch+1), \"cost=\", \"{:.9f}\".format(ave_cost))\n",
    "            \n",
    "    accu = sess.run([accuracy], feed_dict = {X: mnist.test.images, Y: mnist.test.labels})\n",
    "    print(\"accuracy\", accu)\n",
    "    \n",
    "    save_path = saver.save(sess, model_path)\n",
    "    print(\"Model saved in file: %s\" % save_path)"
   ]
  },
  {
   "cell_type": "code",
   "execution_count": null,
   "metadata": {},
   "outputs": [],
   "source": [
    "print(\"2nd session\")\n",
    "with tf.Session() as sess:\n",
    "    \n",
    "    sess.run(init)\n",
    "    \n",
    "    load_path = saver.restore(sess, model_path)\n",
    "    for epoch in range(7):\n",
    "        ave_cost = 0\n",
    "        num_steps = int(mnist.train.num_examples/batch_size)\n",
    "        for step in range(num_steps):\n",
    "            batch_x, batch_y = mnist.train.next_batch(batch_size)\n",
    "            _, loss = sess.run([train_op, loss_op], feed_dict = {X:batch_x, Y:batch_y})\n",
    "        \n",
    "            ave_cost += loss/num_steps\n",
    "        if epoch % display_step == 0:\n",
    "            print(\"Epoch:\", '%04d' % (epoch+1), \"cost=\", \"{:.9f}\".format(ave_cost))\n",
    "            \n",
    "    accu = sess.run([accuracy], feed_dict = {X: mnist.test.images, Y: mnist.test.labels})\n",
    "    print(\"accuracy\", accu)\n",
    "    \n",
    "    save_path = saver.save(sess, model_path)\n",
    "    print(\"Model saved in file: %s\" % save_path)"
   ]
  }
 ],
 "metadata": {
  "kernelspec": {
   "display_name": "Python 3",
   "language": "python",
   "name": "python3"
  },
  "language_info": {
   "codemirror_mode": {
    "name": "ipython",
    "version": 3
   },
   "file_extension": ".py",
   "mimetype": "text/x-python",
   "name": "python",
   "nbconvert_exporter": "python",
   "pygments_lexer": "ipython3",
   "version": "3.6.5"
  }
 },
 "nbformat": 4,
 "nbformat_minor": 2
}
